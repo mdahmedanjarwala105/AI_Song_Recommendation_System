{
 "cells": [
  {
   "cell_type": "code",
   "execution_count": 1,
   "id": "1a90ee15",
   "metadata": {},
   "outputs": [],
   "source": [
    "# Importing the Libraries\n",
    "\n",
    "import pandas as pd\n",
    "from sklearn.feature_extraction.text import TfidfVectorizer\n",
    "from sklearn.metrics.pairwise import cosine_similarity"
   ]
  },
  {
   "cell_type": "code",
   "execution_count": 2,
   "id": "5243c0ac",
   "metadata": {},
   "outputs": [
    {
     "data": {
      "application/vnd.microsoft.datawrangler.viewer.v0+json": {
       "columns": [
        {
         "name": "index",
         "rawType": "int64",
         "type": "integer"
        },
        {
         "name": "song_id",
         "rawType": "object",
         "type": "string"
        },
        {
         "name": "title",
         "rawType": "object",
         "type": "string"
        },
        {
         "name": "artist",
         "rawType": "object",
         "type": "string"
        },
        {
         "name": "genre",
         "rawType": "object",
         "type": "string"
        },
        {
         "name": "duration_ms",
         "rawType": "int64",
         "type": "integer"
        },
        {
         "name": "popularity",
         "rawType": "int64",
         "type": "integer"
        },
        {
         "name": "release_year",
         "rawType": "int64",
         "type": "integer"
        }
       ],
       "ref": "0e5eea84-cd3d-4d2a-9a1b-b1826e797668",
       "rows": [
        [
         "0",
         "s1",
         "Midnight Dreams",
         "Luna Rivera",
         "Pop",
         "210000",
         "85",
         "2023"
        ],
        [
         "1",
         "s2",
         "Electric Thunder",
         "The Voltage",
         "Rock",
         "195000",
         "72",
         "2022"
        ],
        [
         "2",
         "s3",
         "Sunset Boulevard",
         "Jazz Collective",
         "Jazz",
         "240000",
         "68",
         "2021"
        ],
        [
         "3",
         "s4",
         "Digital Hearts",
         "Synth Wave",
         "Electronic",
         "180000",
         "91",
         "2023"
        ],
        [
         "4",
         "s5",
         "Country Roads Home",
         "Jake Mitchell",
         "Country",
         "205000",
         "76",
         "2022"
        ],
        [
         "5",
         "s6",
         "Ocean Waves",
         "Calm Sounds",
         "Ambient",
         "300000",
         "45",
         "2020"
        ]
       ],
       "shape": {
        "columns": 7,
        "rows": 6
       }
      },
      "text/html": [
       "<div>\n",
       "<style scoped>\n",
       "    .dataframe tbody tr th:only-of-type {\n",
       "        vertical-align: middle;\n",
       "    }\n",
       "\n",
       "    .dataframe tbody tr th {\n",
       "        vertical-align: top;\n",
       "    }\n",
       "\n",
       "    .dataframe thead th {\n",
       "        text-align: right;\n",
       "    }\n",
       "</style>\n",
       "<table border=\"1\" class=\"dataframe\">\n",
       "  <thead>\n",
       "    <tr style=\"text-align: right;\">\n",
       "      <th></th>\n",
       "      <th>song_id</th>\n",
       "      <th>title</th>\n",
       "      <th>artist</th>\n",
       "      <th>genre</th>\n",
       "      <th>duration_ms</th>\n",
       "      <th>popularity</th>\n",
       "      <th>release_year</th>\n",
       "    </tr>\n",
       "  </thead>\n",
       "  <tbody>\n",
       "    <tr>\n",
       "      <th>0</th>\n",
       "      <td>s1</td>\n",
       "      <td>Midnight Dreams</td>\n",
       "      <td>Luna Rivera</td>\n",
       "      <td>Pop</td>\n",
       "      <td>210000</td>\n",
       "      <td>85</td>\n",
       "      <td>2023</td>\n",
       "    </tr>\n",
       "    <tr>\n",
       "      <th>1</th>\n",
       "      <td>s2</td>\n",
       "      <td>Electric Thunder</td>\n",
       "      <td>The Voltage</td>\n",
       "      <td>Rock</td>\n",
       "      <td>195000</td>\n",
       "      <td>72</td>\n",
       "      <td>2022</td>\n",
       "    </tr>\n",
       "    <tr>\n",
       "      <th>2</th>\n",
       "      <td>s3</td>\n",
       "      <td>Sunset Boulevard</td>\n",
       "      <td>Jazz Collective</td>\n",
       "      <td>Jazz</td>\n",
       "      <td>240000</td>\n",
       "      <td>68</td>\n",
       "      <td>2021</td>\n",
       "    </tr>\n",
       "    <tr>\n",
       "      <th>3</th>\n",
       "      <td>s4</td>\n",
       "      <td>Digital Hearts</td>\n",
       "      <td>Synth Wave</td>\n",
       "      <td>Electronic</td>\n",
       "      <td>180000</td>\n",
       "      <td>91</td>\n",
       "      <td>2023</td>\n",
       "    </tr>\n",
       "    <tr>\n",
       "      <th>4</th>\n",
       "      <td>s5</td>\n",
       "      <td>Country Roads Home</td>\n",
       "      <td>Jake Mitchell</td>\n",
       "      <td>Country</td>\n",
       "      <td>205000</td>\n",
       "      <td>76</td>\n",
       "      <td>2022</td>\n",
       "    </tr>\n",
       "    <tr>\n",
       "      <th>5</th>\n",
       "      <td>s6</td>\n",
       "      <td>Ocean Waves</td>\n",
       "      <td>Calm Sounds</td>\n",
       "      <td>Ambient</td>\n",
       "      <td>300000</td>\n",
       "      <td>45</td>\n",
       "      <td>2020</td>\n",
       "    </tr>\n",
       "  </tbody>\n",
       "</table>\n",
       "</div>"
      ],
      "text/plain": [
       "  song_id               title           artist       genre  duration_ms  \\\n",
       "0      s1     Midnight Dreams      Luna Rivera         Pop       210000   \n",
       "1      s2    Electric Thunder      The Voltage        Rock       195000   \n",
       "2      s3    Sunset Boulevard  Jazz Collective        Jazz       240000   \n",
       "3      s4      Digital Hearts       Synth Wave  Electronic       180000   \n",
       "4      s5  Country Roads Home    Jake Mitchell     Country       205000   \n",
       "5      s6         Ocean Waves      Calm Sounds     Ambient       300000   \n",
       "\n",
       "   popularity  release_year  \n",
       "0          85          2023  \n",
       "1          72          2022  \n",
       "2          68          2021  \n",
       "3          91          2023  \n",
       "4          76          2022  \n",
       "5          45          2020  "
      ]
     },
     "execution_count": 2,
     "metadata": {},
     "output_type": "execute_result"
    }
   ],
   "source": [
    "# Loading the data\n",
    "\n",
    "data = pd.read_csv(\"../sample_songs_csv.csv\")\n",
    "\n",
    "# Show the data\n",
    "\n",
    "data.head(6)"
   ]
  },
  {
   "cell_type": "code",
   "execution_count": 3,
   "id": "47f15d66",
   "metadata": {},
   "outputs": [],
   "source": [
    "# Combining relevant features into a single text column\n",
    "\n",
    "data[\"features\"] = data[\"title\"] + \" \" + data[\"artist\"] + \" \" + data[\"genre\"]"
   ]
  },
  {
   "cell_type": "code",
   "execution_count": 4,
   "id": "24952c35",
   "metadata": {},
   "outputs": [],
   "source": [
    "# Handling the missing values by replacing them with an empty string\n",
    "\n",
    "data[\"features\"] = data[\"features\"].fillna(\"\")"
   ]
  },
  {
   "cell_type": "code",
   "execution_count": 5,
   "id": "949e4322",
   "metadata": {},
   "outputs": [],
   "source": [
    "# Converting the text into numbers using TF-IDF (Term Frequency - Inverse Document Frequency)\n",
    "\n",
    "vectorizer = TfidfVectorizer(stop_words=\"english\")\n",
    "feature_matrix = vectorizer.fit_transform(data[\"features\"])"
   ]
  },
  {
   "cell_type": "code",
   "execution_count": 6,
   "id": "5513c780",
   "metadata": {},
   "outputs": [],
   "source": [
    "# Creating a function to show recommended(similar) songs based on the cosine similarity\n",
    "\n",
    "def get_recommendation(title: str):\n",
    "\n",
    "    \"\"\"\n",
    "    Returns a list of top 5 recommended items (e.g., songs/products) based on the given title.\n",
    "\n",
    "    This function uses cosine similarity on a precomputed feature matrix to find the top 5 most \n",
    "    similar items to the provided title, excluding the item itself.\n",
    "\n",
    "    Args:\n",
    "        title (str): The title of the item for which recommendations are to be generated.\n",
    "\n",
    "    Returns:\n",
    "        list or str: A list of 5 similar item titles if the title is found,\n",
    "                     or an error message string if the title is not in the dataset.\n",
    "    \"\"\"\n",
    "\n",
    "    if title not in data[\"title\"].values:\n",
    "        return f\"Title '{title}' not found in dataset.\"\n",
    "\n",
    "    index = data[data[\"title\"] == title].index[0]\n",
    "\n",
    "    similarity_score = cosine_similarity(feature_matrix[index], feature_matrix)\n",
    "\n",
    "    # Getting top 5 similar indices\n",
    "    similar_indices = similarity_score.argsort()[0][-6: -1]\n",
    "\n",
    "    #Getting top 5 similar songs\n",
    "    similar_songs = data.iloc[similar_indices][\"title\"].tolist()\n",
    "\n",
    "    return similar_songs\n"
   ]
  },
  {
   "cell_type": "code",
   "execution_count": 7,
   "id": "c123b635",
   "metadata": {},
   "outputs": [
    {
     "name": "stdout",
     "output_type": "stream",
     "text": [
      "['Synthpop Dreams', 'Blues at Midnight', 'Dream Pop Clouds', 'Dancing in the Rain', 'Pop Punk Energy']\n"
     ]
    }
   ],
   "source": [
    "# Getting Recommendations\n",
    "\n",
    "print(get_recommendation(\"Midnight Dreams\"))"
   ]
  }
 ],
 "metadata": {
  "kernelspec": {
   "display_name": "Python 3",
   "language": "python",
   "name": "python3"
  },
  "language_info": {
   "codemirror_mode": {
    "name": "ipython",
    "version": 3
   },
   "file_extension": ".py",
   "mimetype": "text/x-python",
   "name": "python",
   "nbconvert_exporter": "python",
   "pygments_lexer": "ipython3",
   "version": "3.13.7"
  }
 },
 "nbformat": 4,
 "nbformat_minor": 5
}
